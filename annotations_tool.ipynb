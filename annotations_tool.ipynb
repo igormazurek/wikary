{
 "cells": [
  {
   "cell_type": "code",
   "execution_count": 9,
   "id": "18f7d9b7-ee26-42bf-b165-0816489d42bd",
   "metadata": {},
   "outputs": [],
   "source": [
    "import dask.dataframe as dd\n",
    "import pandas as pd\n",
    "from IPython.display import HTML\n",
    "from pigeonXT import annotate\n",
    "from datetime import datetime\n",
    "from ast import literal_eval\n",
    "\n",
    "#Return the HTML code with matched table, highlight the row where the match was located, and add an additional table with match information\n",
    "def create_display_table(row):\n",
    "    rowIndex = int(row[1]['rowIndex'])\n",
    "    css = f'<head><style>.wikitr:nth-child({rowIndex+1}) {{background-color: #bdcebe !important;}}</style></head>'\n",
    "    url = f'<a href=\"https://simple.wikipedia.org/wiki/{row[1][\"pageTitle\"]}\">Visit wikipedia page</a>'\n",
    "    header = f\"<table><tr><td>Page title</td><td> {row[1]['pageTitle']}</td><td> tableIndex: {row[1]['tableIndex']} rowIndex: {row[1]['rowIndex']} </td><td> </td><td>{url}</td></tr>\"\n",
    "    \n",
    "    c1 = int(row[1]['c1'])\n",
    "    c2 = int(row[1]['c2'])\n",
    "    wikibase_item = int(row[1]['wikibase_item'])\n",
    "    year = int(row[1]['year'])\n",
    "    wikidata_ids_str = row[1]['wikidata_ids']\n",
    "    wiki_names = row[1]['wikidata_names']\n",
    "    ents_title = row[1]['ents_title']\n",
    "    \n",
    "    p = row[1]['p']\n",
    "    pq = row[1]['pq']\n",
    "    \n",
    "    index1 = wikidata_ids_str.index(c1)\n",
    "    index2 = wikidata_ids_str.index(c2)\n",
    "    try:\n",
    "        index3 = wikidata_ids_str.index(wikibase_item)\n",
    "        url = f'<a href=\"https://www.wikidata.org/wiki/Q{wikibase_item}\">Visit wikidata page</a>'\n",
    "        info5 = f'<tr><td>Qualifier value</td><td> Q{wikibase_item}</td><td> {wiki_names[index3]} </td><td> {ents_title[index3]} </td><td>{url}</td></tr></table>'\n",
    "    except Exception:\n",
    "        info5 = '</table>'\n",
    "        if int(year) > 0:\n",
    "            index3 = wikidata_ids_str.index(-9)\n",
    "            info5 = f'<tr><td>Qualifier value</td><td> year</td><td> {wiki_names[index3]} </td><td>Year found in cell text</td><td> </td</tr></table>'\n",
    "\n",
    "\n",
    "    url = f'<a href=\"https://www.wikidata.org/wiki/Q{c1}\">Visit wikidata page</a>'\n",
    "    info1 = f'<tr><td>Subject</td><td> Q{c1}</td><td> {wiki_names[index1]} </td><td> {ents_title[index1]} </td><td>{url}</td></tr>'\n",
    "    url = f'<a href=\"https://www.wikidata.org/wiki/Property:P{p}\">Visit wikidata page</a>'\n",
    "    info2 = f'<tr><td>Property</td><td> P{p}</td><td> {property_dict[\"P\"+str(p)]} </td><td> </td><td>{url}</td></tr>'\n",
    "    \n",
    "    url = f'<a href=\"https://www.wikidata.org/wiki/Q{c2}\">Visit wikidata page</a>'\n",
    "    info3 = f'<tr><td>Object</td><td> Q{c2}</td><td> {wiki_names[index2]} </td><td> {ents_title[index2]} </td><td>{url}</td></tr>'\n",
    "    url = f'<a href=\"https://www.wikidata.org/wiki/Property:P{pq}\">Visit wikidata page</a>'\n",
    "    info4 = f'<tr><td>Qualifier property</td><td> P{pq}</td><td> {property_dict[\"P\"+str(pq)]} </td><td> </td><td>{url}</td></tr>'\n",
    "    \n",
    "    wiki_table = str(row[1]['pageHTML']).replace('<tr>', '<tr class=\"wikitr\">')\n",
    "    return HTML(header + info1 + info2 + info3 + info4 + info5 + '<!DOCTYPE html><html>'+ css + wiki_table + \"</html>\")\n",
    "\n",
    "def save_annotations_to_csv():\n",
    "    if all(annotations.changed):\n",
    "        file_name = \"./annotations/annotations/\" + \"annotations_\" + str(datetime.now()).replace(\":\", \"\").replace(\" \",\"_\") + \".csv\"\n",
    "        annotation_df = df_pandas.join(annotations)\n",
    "        annotation_df.to_csv(file_name)\n",
    "        print(\"Annotations saved to csv\", file_name)\n",
    "        return file_name\n",
    "    else:\n",
    "        print(\"Annotations are not completed yet\")"
   ]
  },
  {
   "cell_type": "code",
   "execution_count": 10,
   "id": "9b3755f1-365f-4e3d-a557-c9dc82773c11",
   "metadata": {},
   "outputs": [],
   "source": [
    "#Specify files names and directories\n",
    "file_name = \"simple_100_all\"\n",
    "file_name = \"./annotations/files/\" + file_name + \".csv\"\n",
    "df_pandas = pd.read_csv(file_name, encoding=\"utf-8\")\n",
    "\n",
    "df_pandas['wikidata_ids'] = df_pandas['wikidata_ids'].apply(literal_eval)\n",
    "df_pandas['wikidata_names'] = df_pandas['wikidata_names'].apply(literal_eval)\n",
    "df_pandas['ents_title'] = df_pandas['ents_title'].apply(literal_eval)\n",
    "\n",
    "#Load property labels to list\n",
    "property_dict = {}\n",
    "f = open('wikidata-prop-label.tsv','r',encoding = 'utf-8')\n",
    "for line in f:\n",
    "    property_id, property_label = [elem.strip() for elem in line.split('\\t')]\n",
    "    property_dict[property_id] = property_label\n",
    "f.close()"
   ]
  },
  {
   "cell_type": "code",
   "execution_count": 11,
   "id": "8246a972-9595-4ce9-adc6-9037dfa4ebe6",
   "metadata": {},
   "outputs": [
    {
     "data": {
      "application/vnd.jupyter.widget-view+json": {
       "model_id": "9a9ce3cd43924282a542c09eee7d741d",
       "version_major": 2,
       "version_minor": 0
      },
      "text/plain": [
       "HTML(value='0 of 100 Examples annotated, Current Position: 0 ')"
      ]
     },
     "metadata": {},
     "output_type": "display_data"
    },
    {
     "data": {
      "application/vnd.jupyter.widget-view+json": {
       "model_id": "2a5494dd6b0047eb8cf89140ee82c3c7",
       "version_major": 2,
       "version_minor": 0
      },
      "text/plain": [
       "VBox(children=(HBox(children=(Button(description='N-ary', style=ButtonStyle()), Button(description='Not N-ary'…"
      ]
     },
     "metadata": {},
     "output_type": "display_data"
    },
    {
     "data": {
      "application/vnd.jupyter.widget-view+json": {
       "model_id": "64eb8d9baa8d4c86a34d2c5f99fce9da",
       "version_major": 2,
       "version_minor": 0
      },
      "text/plain": [
       "Output()"
      ]
     },
     "metadata": {},
     "output_type": "display_data"
    }
   ],
   "source": [
    "#Start annotation tool\n",
    "annotations = annotate(\n",
    "  [table for table in df_pandas.iterrows()],\n",
    "  options=['N-ary', 'Not N-ary', 'Incorrect formatting', 'Skip'],\n",
    "  display_fn=lambda row:display(create_display_table(row))\n",
    ")"
   ]
  },
  {
   "cell_type": "code",
   "execution_count": null,
   "id": "1c1e4290-00f2-4981-a84f-fa77fd49322e",
   "metadata": {},
   "outputs": [
    {
     "name": "stdout",
     "output_type": "stream",
     "text": [
      "Annotations are not completed yet\n"
     ]
    }
   ],
   "source": [
    "#Saves annotations to CSV\n",
    "file_name = save_annotations_to_csv()"
   ]
  }
 ],
 "metadata": {
  "kernelspec": {
   "display_name": "Python 3 (ipykernel)",
   "language": "python",
   "name": "python3"
  },
  "language_info": {
   "codemirror_mode": {
    "name": "ipython",
    "version": 3
   },
   "file_extension": ".py",
   "mimetype": "text/x-python",
   "name": "python",
   "nbconvert_exporter": "python",
   "pygments_lexer": "ipython3",
   "version": "3.8.0"
  }
 },
 "nbformat": 4,
 "nbformat_minor": 5
}
